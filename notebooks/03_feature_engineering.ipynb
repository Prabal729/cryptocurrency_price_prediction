{
 "cells": [
  {
   "cell_type": "code",
   "execution_count": 13,
   "id": "86a0267f",
   "metadata": {},
   "outputs": [
    {
     "name": "stdout",
     "output_type": "stream",
     "text": [
      "✅ Features saved to ../data/processed/features.csv\n"
     ]
    }
   ],
   "source": [
    "import pandas as pd\n",
    "\n",
    "# Load the cleaned data\n",
    "df = pd.read_csv(\"../data/processed/cleaned_crypto_price.csv\")\n",
    "\n",
    "# Drop rows with missing values in important columns\n",
    "df = df.dropna(subset=['price', '1h', '24h', '7d', '24h_volume', 'mkt_cap'])\n",
    "\n",
    "# Feature Engineering\n",
    "df['price_change_1h'] = df['price'] * df['1h'] / 100\n",
    "df['price_change_24h'] = df['price'] * df['24h'] / 100\n",
    "df['price_change_7d'] = df['price'] * df['7d'] / 100\n",
    "df['volatility_24h'] = df[['1h', '24h']].std(axis=1)\n",
    "df['market_cap_to_volume_ratio'] = df['mkt_cap'] / df['24h_volume']\n",
    "df['is_stablecoin'] = df['symbol'].str.lower().isin(['usdt', 'usdc', 'busd', 'dai', 'tusd']).astype(int)\n",
    "\n",
    "# One-hot encoding for 'symbol'\n",
    "symbol_dummies = pd.get_dummies(df['symbol'], prefix='symbol')\n",
    "df = pd.concat([df, symbol_dummies], axis=1)\n",
    "\n",
    "# Drop the raw % change columns\n",
    "df = df.drop(columns=['1h', '24h', '7d'])\n",
    "\n",
    "# Reorder for clarity\n",
    "cols_to_front = ['date', 'coin', 'symbol', 'price', 'price_change_1h', 'price_change_24h', 'price_change_7d',\n",
    "                 'volatility_24h', 'market_cap_to_volume_ratio', 'is_stablecoin']\n",
    "remaining_cols = [col for col in df.columns if col not in cols_to_front]\n",
    "df = df[cols_to_front + remaining_cols]\n",
    "\n",
    "# Save to CSV\n",
    "output_path = \"../data/processed/features.csv\"\n",
    "df.to_csv(output_path, index=False)\n",
    "\n",
    "print(f\"✅ Features saved to {output_path}\")\n"
   ]
  },
  {
   "cell_type": "code",
   "execution_count": null,
   "id": "681fe9d1",
   "metadata": {},
   "outputs": [],
   "source": []
  }
 ],
 "metadata": {
  "kernelspec": {
   "display_name": "base",
   "language": "python",
   "name": "python3"
  },
  "language_info": {
   "codemirror_mode": {
    "name": "ipython",
    "version": 3
   },
   "file_extension": ".py",
   "mimetype": "text/x-python",
   "name": "python",
   "nbconvert_exporter": "python",
   "pygments_lexer": "ipython3",
   "version": "3.11.5"
  }
 },
 "nbformat": 4,
 "nbformat_minor": 5
}
